{
 "cells": [
  {
   "cell_type": "code",
   "execution_count": 1,
   "id": "d53141f9",
   "metadata": {
    "_cell_guid": "b1076dfc-b9ad-4769-8c92-a6c4dae69d19",
    "_uuid": "8f2839f25d086af736a60e9eeb907d3b93b6e0e5",
    "execution": {
     "iopub.execute_input": "2025-03-24T09:55:54.633230Z",
     "iopub.status.busy": "2025-03-24T09:55:54.632870Z",
     "iopub.status.idle": "2025-03-24T09:55:55.768709Z",
     "shell.execute_reply": "2025-03-24T09:55:55.767426Z"
    },
    "papermill": {
     "duration": 1.142717,
     "end_time": "2025-03-24T09:55:55.770145",
     "exception": false,
     "start_time": "2025-03-24T09:55:54.627428",
     "status": "completed"
    },
    "tags": []
   },
   "outputs": [
    {
     "name": "stdout",
     "output_type": "stream",
     "text": [
      "/kaggle/input/insa-ml-2025-regression/sample_submission.csv\n",
      "/kaggle/input/insa-ml-2025-regression/train.csv\n",
      "/kaggle/input/insa-ml-2025-regression/test.csv\n"
     ]
    }
   ],
   "source": [
    "import numpy as np\n",
    "import pandas as pd\n",
    "\n",
    "import os\n",
    "for dirname, _, filenames in os.walk('/kaggle/input'):\n",
    "    for filename in filenames:\n",
    "        print(os.path.join(dirname, filename))"
   ]
  },
  {
   "cell_type": "markdown",
   "id": "3aba9281",
   "metadata": {
    "papermill": {
     "duration": 0.003699,
     "end_time": "2025-03-24T09:55:55.777804",
     "exception": false,
     "start_time": "2025-03-24T09:55:55.774105",
     "status": "completed"
    },
    "tags": []
   },
   "source": [
    "# Managine the data"
   ]
  },
  {
   "cell_type": "markdown",
   "id": "55731226",
   "metadata": {
    "papermill": {
     "duration": 0.004331,
     "end_time": "2025-03-24T09:55:55.785799",
     "exception": false,
     "start_time": "2025-03-24T09:55:55.781468",
     "status": "completed"
    },
    "tags": []
   },
   "source": [
    "## Loading the training dataset"
   ]
  },
  {
   "cell_type": "code",
   "execution_count": 2,
   "id": "3b7e6634",
   "metadata": {
    "execution": {
     "iopub.execute_input": "2025-03-24T09:55:55.794241Z",
     "iopub.status.busy": "2025-03-24T09:55:55.793755Z",
     "iopub.status.idle": "2025-03-24T09:55:56.114243Z",
     "shell.execute_reply": "2025-03-24T09:55:56.113196Z"
    },
    "papermill": {
     "duration": 0.326602,
     "end_time": "2025-03-24T09:55:56.116025",
     "exception": false,
     "start_time": "2025-03-24T09:55:55.789423",
     "status": "completed"
    },
    "tags": []
   },
   "outputs": [
    {
     "data": {
      "text/html": [
       "<div>\n",
       "<style scoped>\n",
       "    .dataframe tbody tr th:only-of-type {\n",
       "        vertical-align: middle;\n",
       "    }\n",
       "\n",
       "    .dataframe tbody tr th {\n",
       "        vertical-align: top;\n",
       "    }\n",
       "\n",
       "    .dataframe thead th {\n",
       "        text-align: right;\n",
       "    }\n",
       "</style>\n",
       "<table border=\"1\" class=\"dataframe\">\n",
       "  <thead>\n",
       "    <tr style=\"text-align: right;\">\n",
       "      <th></th>\n",
       "      <th>id</th>\n",
       "      <th>max_power</th>\n",
       "      <th>weight_min</th>\n",
       "      <th>weight_max</th>\n",
       "      <th>urb_cons</th>\n",
       "      <th>exturb_cons</th>\n",
       "      <th>overall_cons</th>\n",
       "      <th>co</th>\n",
       "      <th>hc</th>\n",
       "      <th>nox</th>\n",
       "      <th>hcnox</th>\n",
       "      <th>ptcl</th>\n",
       "      <th>co2</th>\n",
       "    </tr>\n",
       "  </thead>\n",
       "  <tbody>\n",
       "    <tr>\n",
       "      <th>count</th>\n",
       "      <td>41257.000000</td>\n",
       "      <td>41257.000000</td>\n",
       "      <td>41257.000000</td>\n",
       "      <td>41257.000000</td>\n",
       "      <td>41251.000000</td>\n",
       "      <td>41251.000000</td>\n",
       "      <td>41257.000000</td>\n",
       "      <td>41171.000000</td>\n",
       "      <td>7367.000000</td>\n",
       "      <td>41171.000000</td>\n",
       "      <td>33841.000000</td>\n",
       "      <td>39292.000000</td>\n",
       "      <td>41257.000000</td>\n",
       "    </tr>\n",
       "    <tr>\n",
       "      <th>mean</th>\n",
       "      <td>20628.000000</td>\n",
       "      <td>118.982960</td>\n",
       "      <td>2102.832901</td>\n",
       "      <td>2342.408609</td>\n",
       "      <td>9.570216</td>\n",
       "      <td>6.728448</td>\n",
       "      <td>7.761779</td>\n",
       "      <td>0.181025</td>\n",
       "      <td>0.026455</td>\n",
       "      <td>0.300336</td>\n",
       "      <td>0.233684</td>\n",
       "      <td>0.000896</td>\n",
       "      <td>201.636086</td>\n",
       "    </tr>\n",
       "    <tr>\n",
       "      <th>std</th>\n",
       "      <td>11910.014365</td>\n",
       "      <td>45.282568</td>\n",
       "      <td>293.810948</td>\n",
       "      <td>423.303792</td>\n",
       "      <td>2.079990</td>\n",
       "      <td>1.035866</td>\n",
       "      <td>1.378721</td>\n",
       "      <td>0.145250</td>\n",
       "      <td>0.019502</td>\n",
       "      <td>0.418976</td>\n",
       "      <td>0.037348</td>\n",
       "      <td>0.000994</td>\n",
       "      <td>33.906550</td>\n",
       "    </tr>\n",
       "    <tr>\n",
       "      <th>min</th>\n",
       "      <td>0.000000</td>\n",
       "      <td>28.000000</td>\n",
       "      <td>825.000000</td>\n",
       "      <td>825.000000</td>\n",
       "      <td>0.000000</td>\n",
       "      <td>2.800000</td>\n",
       "      <td>0.600000</td>\n",
       "      <td>0.005000</td>\n",
       "      <td>0.000000</td>\n",
       "      <td>0.000000</td>\n",
       "      <td>0.000000</td>\n",
       "      <td>0.000000</td>\n",
       "      <td>13.000000</td>\n",
       "    </tr>\n",
       "    <tr>\n",
       "      <th>25%</th>\n",
       "      <td>10314.000000</td>\n",
       "      <td>100.000000</td>\n",
       "      <td>1982.000000</td>\n",
       "      <td>2075.000000</td>\n",
       "      <td>8.800000</td>\n",
       "      <td>6.500000</td>\n",
       "      <td>7.300000</td>\n",
       "      <td>0.061000</td>\n",
       "      <td>0.008000</td>\n",
       "      <td>0.197000</td>\n",
       "      <td>0.216000</td>\n",
       "      <td>0.000000</td>\n",
       "      <td>193.000000</td>\n",
       "    </tr>\n",
       "    <tr>\n",
       "      <th>50%</th>\n",
       "      <td>20628.000000</td>\n",
       "      <td>120.000000</td>\n",
       "      <td>2076.000000</td>\n",
       "      <td>2355.000000</td>\n",
       "      <td>9.400000</td>\n",
       "      <td>6.900000</td>\n",
       "      <td>7.800000</td>\n",
       "      <td>0.137000</td>\n",
       "      <td>0.029000</td>\n",
       "      <td>0.214000</td>\n",
       "      <td>0.239000</td>\n",
       "      <td>0.001000</td>\n",
       "      <td>205.000000</td>\n",
       "    </tr>\n",
       "    <tr>\n",
       "      <th>75%</th>\n",
       "      <td>30942.000000</td>\n",
       "      <td>120.000000</td>\n",
       "      <td>2246.000000</td>\n",
       "      <td>2709.000000</td>\n",
       "      <td>10.200000</td>\n",
       "      <td>7.200000</td>\n",
       "      <td>8.300000</td>\n",
       "      <td>0.297000</td>\n",
       "      <td>0.042000</td>\n",
       "      <td>0.228000</td>\n",
       "      <td>0.253000</td>\n",
       "      <td>0.001000</td>\n",
       "      <td>216.000000</td>\n",
       "    </tr>\n",
       "    <tr>\n",
       "      <th>max</th>\n",
       "      <td>41256.000000</td>\n",
       "      <td>585.000000</td>\n",
       "      <td>2760.000000</td>\n",
       "      <td>3094.000000</td>\n",
       "      <td>41.099998</td>\n",
       "      <td>14.900000</td>\n",
       "      <td>24.500000</td>\n",
       "      <td>0.968000</td>\n",
       "      <td>0.510000</td>\n",
       "      <td>1.846000</td>\n",
       "      <td>0.570000</td>\n",
       "      <td>0.023000</td>\n",
       "      <td>572.000000</td>\n",
       "    </tr>\n",
       "  </tbody>\n",
       "</table>\n",
       "</div>"
      ],
      "text/plain": [
       "                 id     max_power    weight_min    weight_max      urb_cons  \\\n",
       "count  41257.000000  41257.000000  41257.000000  41257.000000  41251.000000   \n",
       "mean   20628.000000    118.982960   2102.832901   2342.408609      9.570216   \n",
       "std    11910.014365     45.282568    293.810948    423.303792      2.079990   \n",
       "min        0.000000     28.000000    825.000000    825.000000      0.000000   \n",
       "25%    10314.000000    100.000000   1982.000000   2075.000000      8.800000   \n",
       "50%    20628.000000    120.000000   2076.000000   2355.000000      9.400000   \n",
       "75%    30942.000000    120.000000   2246.000000   2709.000000     10.200000   \n",
       "max    41256.000000    585.000000   2760.000000   3094.000000     41.099998   \n",
       "\n",
       "        exturb_cons  overall_cons            co           hc           nox  \\\n",
       "count  41251.000000  41257.000000  41171.000000  7367.000000  41171.000000   \n",
       "mean       6.728448      7.761779      0.181025     0.026455      0.300336   \n",
       "std        1.035866      1.378721      0.145250     0.019502      0.418976   \n",
       "min        2.800000      0.600000      0.005000     0.000000      0.000000   \n",
       "25%        6.500000      7.300000      0.061000     0.008000      0.197000   \n",
       "50%        6.900000      7.800000      0.137000     0.029000      0.214000   \n",
       "75%        7.200000      8.300000      0.297000     0.042000      0.228000   \n",
       "max       14.900000     24.500000      0.968000     0.510000      1.846000   \n",
       "\n",
       "              hcnox          ptcl           co2  \n",
       "count  33841.000000  39292.000000  41257.000000  \n",
       "mean       0.233684      0.000896    201.636086  \n",
       "std        0.037348      0.000994     33.906550  \n",
       "min        0.000000      0.000000     13.000000  \n",
       "25%        0.216000      0.000000    193.000000  \n",
       "50%        0.239000      0.001000    205.000000  \n",
       "75%        0.253000      0.001000    216.000000  \n",
       "max        0.570000      0.023000    572.000000  "
      ]
     },
     "execution_count": 2,
     "metadata": {},
     "output_type": "execute_result"
    }
   ],
   "source": [
    "train_path = '/kaggle/input/insa-ml-2025-regression/train.csv'\n",
    "data = pd.read_csv(train_path)\n",
    "\n",
    "data.describe()"
   ]
  },
  {
   "cell_type": "code",
   "execution_count": 3,
   "id": "2a6d9026",
   "metadata": {
    "execution": {
     "iopub.execute_input": "2025-03-24T09:55:56.125022Z",
     "iopub.status.busy": "2025-03-24T09:55:56.124658Z",
     "iopub.status.idle": "2025-03-24T09:55:56.165686Z",
     "shell.execute_reply": "2025-03-24T09:55:56.164509Z"
    },
    "papermill": {
     "duration": 0.047262,
     "end_time": "2025-03-24T09:55:56.167321",
     "exception": false,
     "start_time": "2025-03-24T09:55:56.120059",
     "status": "completed"
    },
    "tags": []
   },
   "outputs": [
    {
     "name": "stdout",
     "output_type": "stream",
     "text": [
      "<class 'pandas.core.frame.DataFrame'>\n",
      "RangeIndex: 41257 entries, 0 to 41256\n",
      "Data columns (total 20 columns):\n",
      " #   Column            Non-Null Count  Dtype  \n",
      "---  ------            --------------  -----  \n",
      " 0   id                41257 non-null  int64  \n",
      " 1   brand             41257 non-null  object \n",
      " 2   model             41257 non-null  object \n",
      " 3   car_class         41257 non-null  object \n",
      " 4   range             41257 non-null  object \n",
      " 5   fuel_type         41257 non-null  object \n",
      " 6   hybrid            41257 non-null  object \n",
      " 7   max_power         41257 non-null  float64\n",
      " 8   grbx_type_ratios  41257 non-null  object \n",
      " 9   weight_min        41257 non-null  int64  \n",
      " 10  weight_max        41257 non-null  int64  \n",
      " 11  urb_cons          41251 non-null  float64\n",
      " 12  exturb_cons       41251 non-null  float64\n",
      " 13  overall_cons      41257 non-null  float64\n",
      " 14  co                41171 non-null  float64\n",
      " 15  hc                7367 non-null   float64\n",
      " 16  nox               41171 non-null  float64\n",
      " 17  hcnox             33841 non-null  float64\n",
      " 18  ptcl              39292 non-null  float64\n",
      " 19  co2               41257 non-null  int64  \n",
      "dtypes: float64(9), int64(4), object(7)\n",
      "memory usage: 6.3+ MB\n"
     ]
    }
   ],
   "source": [
    "data.info()"
   ]
  },
  {
   "cell_type": "code",
   "execution_count": 4,
   "id": "b54aa543",
   "metadata": {
    "execution": {
     "iopub.execute_input": "2025-03-24T09:55:56.176650Z",
     "iopub.status.busy": "2025-03-24T09:55:56.176290Z",
     "iopub.status.idle": "2025-03-24T09:55:56.199824Z",
     "shell.execute_reply": "2025-03-24T09:55:56.198721Z"
    },
    "papermill": {
     "duration": 0.030245,
     "end_time": "2025-03-24T09:55:56.201726",
     "exception": false,
     "start_time": "2025-03-24T09:55:56.171481",
     "status": "completed"
    },
    "tags": []
   },
   "outputs": [
    {
     "name": "stderr",
     "output_type": "stream",
     "text": [
      "/usr/local/lib/python3.10/dist-packages/pandas/io/formats/format.py:1458: RuntimeWarning: invalid value encountered in greater\n",
      "  has_large_values = (abs_vals > 1e6).any()\n",
      "/usr/local/lib/python3.10/dist-packages/pandas/io/formats/format.py:1459: RuntimeWarning: invalid value encountered in less\n",
      "  has_small_values = ((abs_vals < 10 ** (-self.digits)) & (abs_vals > 0)).any()\n",
      "/usr/local/lib/python3.10/dist-packages/pandas/io/formats/format.py:1459: RuntimeWarning: invalid value encountered in greater\n",
      "  has_small_values = ((abs_vals < 10 ** (-self.digits)) & (abs_vals > 0)).any()\n"
     ]
    },
    {
     "data": {
      "text/html": [
       "<div>\n",
       "<style scoped>\n",
       "    .dataframe tbody tr th:only-of-type {\n",
       "        vertical-align: middle;\n",
       "    }\n",
       "\n",
       "    .dataframe tbody tr th {\n",
       "        vertical-align: top;\n",
       "    }\n",
       "\n",
       "    .dataframe thead th {\n",
       "        text-align: right;\n",
       "    }\n",
       "</style>\n",
       "<table border=\"1\" class=\"dataframe\">\n",
       "  <thead>\n",
       "    <tr style=\"text-align: right;\">\n",
       "      <th></th>\n",
       "      <th>id</th>\n",
       "      <th>brand</th>\n",
       "      <th>model</th>\n",
       "      <th>car_class</th>\n",
       "      <th>range</th>\n",
       "      <th>fuel_type</th>\n",
       "      <th>hybrid</th>\n",
       "      <th>max_power</th>\n",
       "      <th>grbx_type_ratios</th>\n",
       "      <th>weight_min</th>\n",
       "      <th>weight_max</th>\n",
       "      <th>urb_cons</th>\n",
       "      <th>exturb_cons</th>\n",
       "      <th>overall_cons</th>\n",
       "      <th>co</th>\n",
       "      <th>hc</th>\n",
       "      <th>nox</th>\n",
       "      <th>hcnox</th>\n",
       "      <th>ptcl</th>\n",
       "      <th>co2</th>\n",
       "    </tr>\n",
       "  </thead>\n",
       "  <tbody>\n",
       "    <tr>\n",
       "      <th>0</th>\n",
       "      <td>0</td>\n",
       "      <td>MERCEDES</td>\n",
       "      <td>COMBI 110 CDI</td>\n",
       "      <td>MINIBUS</td>\n",
       "      <td>MOY-INFER</td>\n",
       "      <td>GO</td>\n",
       "      <td>non</td>\n",
       "      <td>70.0</td>\n",
       "      <td>M 6</td>\n",
       "      <td>1976</td>\n",
       "      <td>2075</td>\n",
       "      <td>9.1</td>\n",
       "      <td>6.4</td>\n",
       "      <td>7.4</td>\n",
       "      <td>0.083</td>\n",
       "      <td>NaN</td>\n",
       "      <td>0.229</td>\n",
       "      <td>0.250</td>\n",
       "      <td>0.001</td>\n",
       "      <td>195</td>\n",
       "    </tr>\n",
       "    <tr>\n",
       "      <th>1</th>\n",
       "      <td>1</td>\n",
       "      <td>MERCEDES</td>\n",
       "      <td>VIANO 2.0 CDI</td>\n",
       "      <td>MINIBUS</td>\n",
       "      <td>MOY-SUPER</td>\n",
       "      <td>GO</td>\n",
       "      <td>non</td>\n",
       "      <td>100.0</td>\n",
       "      <td>A 5</td>\n",
       "      <td>2186</td>\n",
       "      <td>2355</td>\n",
       "      <td>10.2</td>\n",
       "      <td>7.0</td>\n",
       "      <td>8.2</td>\n",
       "      <td>0.078</td>\n",
       "      <td>NaN</td>\n",
       "      <td>0.224</td>\n",
       "      <td>0.233</td>\n",
       "      <td>0.001</td>\n",
       "      <td>216</td>\n",
       "    </tr>\n",
       "    <tr>\n",
       "      <th>2</th>\n",
       "      <td>2</td>\n",
       "      <td>MERCEDES</td>\n",
       "      <td>SPRINTER COMBI 319 CDI</td>\n",
       "      <td>MINIBUS</td>\n",
       "      <td>MOY-INFER</td>\n",
       "      <td>GO</td>\n",
       "      <td>non</td>\n",
       "      <td>140.0</td>\n",
       "      <td>A 5</td>\n",
       "      <td>2586</td>\n",
       "      <td>2869</td>\n",
       "      <td>12.5</td>\n",
       "      <td>9.0</td>\n",
       "      <td>10.3</td>\n",
       "      <td>0.067</td>\n",
       "      <td>0.014</td>\n",
       "      <td>1.846</td>\n",
       "      <td>NaN</td>\n",
       "      <td>0.002</td>\n",
       "      <td>272</td>\n",
       "    </tr>\n",
       "    <tr>\n",
       "      <th>3</th>\n",
       "      <td>3</td>\n",
       "      <td>RENAULT</td>\n",
       "      <td>MEGANE Coupé EnergyTCe (115ch) eco2</td>\n",
       "      <td>COUPE</td>\n",
       "      <td>MOY-INFER</td>\n",
       "      <td>ES</td>\n",
       "      <td>non</td>\n",
       "      <td>85.0</td>\n",
       "      <td>M 6</td>\n",
       "      <td>1280</td>\n",
       "      <td>1280</td>\n",
       "      <td>6.4</td>\n",
       "      <td>4.6</td>\n",
       "      <td>5.3</td>\n",
       "      <td>0.167</td>\n",
       "      <td>0.039</td>\n",
       "      <td>0.039</td>\n",
       "      <td>NaN</td>\n",
       "      <td>0.001</td>\n",
       "      <td>119</td>\n",
       "    </tr>\n",
       "    <tr>\n",
       "      <th>4</th>\n",
       "      <td>4</td>\n",
       "      <td>MERCEDES</td>\n",
       "      <td>COMBI 116 CDI</td>\n",
       "      <td>MINIBUS</td>\n",
       "      <td>MOY-INFER</td>\n",
       "      <td>GO</td>\n",
       "      <td>non</td>\n",
       "      <td>120.0</td>\n",
       "      <td>A 5</td>\n",
       "      <td>2356</td>\n",
       "      <td>2450</td>\n",
       "      <td>10.1</td>\n",
       "      <td>6.9</td>\n",
       "      <td>8.1</td>\n",
       "      <td>0.042</td>\n",
       "      <td>NaN</td>\n",
       "      <td>0.190</td>\n",
       "      <td>0.201</td>\n",
       "      <td>0.001</td>\n",
       "      <td>214</td>\n",
       "    </tr>\n",
       "  </tbody>\n",
       "</table>\n",
       "</div>"
      ],
      "text/plain": [
       "   id     brand                                model car_class      range  \\\n",
       "0   0  MERCEDES                        COMBI 110 CDI   MINIBUS  MOY-INFER   \n",
       "1   1  MERCEDES                        VIANO 2.0 CDI   MINIBUS  MOY-SUPER   \n",
       "2   2  MERCEDES               SPRINTER COMBI 319 CDI   MINIBUS  MOY-INFER   \n",
       "3   3   RENAULT  MEGANE Coupé EnergyTCe (115ch) eco2     COUPE  MOY-INFER   \n",
       "4   4  MERCEDES                        COMBI 116 CDI   MINIBUS  MOY-INFER   \n",
       "\n",
       "  fuel_type hybrid  max_power grbx_type_ratios  weight_min  weight_max  \\\n",
       "0        GO    non       70.0              M 6        1976        2075   \n",
       "1        GO    non      100.0              A 5        2186        2355   \n",
       "2        GO    non      140.0              A 5        2586        2869   \n",
       "3        ES    non       85.0              M 6        1280        1280   \n",
       "4        GO    non      120.0              A 5        2356        2450   \n",
       "\n",
       "   urb_cons  exturb_cons  overall_cons     co     hc    nox  hcnox   ptcl  co2  \n",
       "0       9.1          6.4           7.4  0.083    NaN  0.229  0.250  0.001  195  \n",
       "1      10.2          7.0           8.2  0.078    NaN  0.224  0.233  0.001  216  \n",
       "2      12.5          9.0          10.3  0.067  0.014  1.846    NaN  0.002  272  \n",
       "3       6.4          4.6           5.3  0.167  0.039  0.039    NaN  0.001  119  \n",
       "4      10.1          6.9           8.1  0.042    NaN  0.190  0.201  0.001  214  "
      ]
     },
     "execution_count": 4,
     "metadata": {},
     "output_type": "execute_result"
    }
   ],
   "source": [
    "data.head()"
   ]
  },
  {
   "cell_type": "code",
   "execution_count": 5,
   "id": "75ff5e34",
   "metadata": {
    "execution": {
     "iopub.execute_input": "2025-03-24T09:55:56.212117Z",
     "iopub.status.busy": "2025-03-24T09:55:56.211793Z",
     "iopub.status.idle": "2025-03-24T09:55:56.215618Z",
     "shell.execute_reply": "2025-03-24T09:55:56.214765Z"
    },
    "papermill": {
     "duration": 0.011033,
     "end_time": "2025-03-24T09:55:56.217408",
     "exception": false,
     "start_time": "2025-03-24T09:55:56.206375",
     "status": "completed"
    },
    "tags": []
   },
   "outputs": [],
   "source": [
    "#data = data.dropna(axis=0) #NE PAS FAIRE, on obtient 32 lignes..."
   ]
  },
  {
   "cell_type": "code",
   "execution_count": 6,
   "id": "e049c13d",
   "metadata": {
    "execution": {
     "iopub.execute_input": "2025-03-24T09:55:56.227236Z",
     "iopub.status.busy": "2025-03-24T09:55:56.226918Z",
     "iopub.status.idle": "2025-03-24T09:55:56.238683Z",
     "shell.execute_reply": "2025-03-24T09:55:56.237674Z"
    },
    "papermill": {
     "duration": 0.018627,
     "end_time": "2025-03-24T09:55:56.240515",
     "exception": false,
     "start_time": "2025-03-24T09:55:56.221888",
     "status": "completed"
    },
    "tags": []
   },
   "outputs": [],
   "source": [
    "data=data.drop(columns=['grbx_type_ratios', 'brand', 'model', 'car_class', 'range', 'fuel_type', 'hc'])"
   ]
  },
  {
   "cell_type": "code",
   "execution_count": 7,
   "id": "78816ebd",
   "metadata": {
    "execution": {
     "iopub.execute_input": "2025-03-24T09:55:56.250643Z",
     "iopub.status.busy": "2025-03-24T09:55:56.250219Z",
     "iopub.status.idle": "2025-03-24T09:55:56.324930Z",
     "shell.execute_reply": "2025-03-24T09:55:56.323847Z"
    },
    "papermill": {
     "duration": 0.081555,
     "end_time": "2025-03-24T09:55:56.326622",
     "exception": false,
     "start_time": "2025-03-24T09:55:56.245067",
     "status": "completed"
    },
    "tags": []
   },
   "outputs": [
    {
     "name": "stderr",
     "output_type": "stream",
     "text": [
      "<ipython-input-7-ba5a82f9019d>:1: FutureWarning: Downcasting behavior in `replace` is deprecated and will be removed in a future version. To retain the old behavior, explicitly call `result.infer_objects(copy=False)`. To opt-in to the future behavior, set `pd.set_option('future.no_silent_downcasting', True)`\n",
      "  data[\"hybrid\"] = data[\"hybrid\"].replace(['non', 'oui'], [0, 1])\n"
     ]
    },
    {
     "data": {
      "text/html": [
       "<div>\n",
       "<style scoped>\n",
       "    .dataframe tbody tr th:only-of-type {\n",
       "        vertical-align: middle;\n",
       "    }\n",
       "\n",
       "    .dataframe tbody tr th {\n",
       "        vertical-align: top;\n",
       "    }\n",
       "\n",
       "    .dataframe thead th {\n",
       "        text-align: right;\n",
       "    }\n",
       "</style>\n",
       "<table border=\"1\" class=\"dataframe\">\n",
       "  <thead>\n",
       "    <tr style=\"text-align: right;\">\n",
       "      <th></th>\n",
       "      <th>id</th>\n",
       "      <th>hybrid</th>\n",
       "      <th>max_power</th>\n",
       "      <th>weight_min</th>\n",
       "      <th>weight_max</th>\n",
       "      <th>urb_cons</th>\n",
       "      <th>exturb_cons</th>\n",
       "      <th>overall_cons</th>\n",
       "      <th>co</th>\n",
       "      <th>nox</th>\n",
       "      <th>hcnox</th>\n",
       "      <th>ptcl</th>\n",
       "      <th>co2</th>\n",
       "    </tr>\n",
       "  </thead>\n",
       "  <tbody>\n",
       "    <tr>\n",
       "      <th>count</th>\n",
       "      <td>33836.000000</td>\n",
       "      <td>33836.000000</td>\n",
       "      <td>33836.000000</td>\n",
       "      <td>33836.000000</td>\n",
       "      <td>33836.000000</td>\n",
       "      <td>33836.000000</td>\n",
       "      <td>33836.000000</td>\n",
       "      <td>33836.000000</td>\n",
       "      <td>33836.000000</td>\n",
       "      <td>33836.00000</td>\n",
       "      <td>33836.000000</td>\n",
       "      <td>33836.000000</td>\n",
       "      <td>33836.000000</td>\n",
       "    </tr>\n",
       "    <tr>\n",
       "      <th>mean</th>\n",
       "      <td>20626.299533</td>\n",
       "      <td>0.001891</td>\n",
       "      <td>110.637363</td>\n",
       "      <td>2105.269890</td>\n",
       "      <td>2363.662194</td>\n",
       "      <td>9.250047</td>\n",
       "      <td>6.659691</td>\n",
       "      <td>7.598977</td>\n",
       "      <td>0.173798</td>\n",
       "      <td>0.21030</td>\n",
       "      <td>0.233715</td>\n",
       "      <td>0.000683</td>\n",
       "      <td>199.979164</td>\n",
       "    </tr>\n",
       "    <tr>\n",
       "      <th>std</th>\n",
       "      <td>11925.890823</td>\n",
       "      <td>0.043451</td>\n",
       "      <td>22.962950</td>\n",
       "      <td>220.992665</td>\n",
       "      <td>356.793576</td>\n",
       "      <td>1.345839</td>\n",
       "      <td>0.813015</td>\n",
       "      <td>0.982133</td>\n",
       "      <td>0.140222</td>\n",
       "      <td>0.03543</td>\n",
       "      <td>0.037262</td>\n",
       "      <td>0.000570</td>\n",
       "      <td>25.999237</td>\n",
       "    </tr>\n",
       "    <tr>\n",
       "      <th>min</th>\n",
       "      <td>0.000000</td>\n",
       "      <td>0.000000</td>\n",
       "      <td>40.000000</td>\n",
       "      <td>845.000000</td>\n",
       "      <td>845.000000</td>\n",
       "      <td>0.000000</td>\n",
       "      <td>2.800000</td>\n",
       "      <td>1.800000</td>\n",
       "      <td>0.005000</td>\n",
       "      <td>0.02100</td>\n",
       "      <td>0.000000</td>\n",
       "      <td>0.000000</td>\n",
       "      <td>48.000000</td>\n",
       "    </tr>\n",
       "    <tr>\n",
       "      <th>25%</th>\n",
       "      <td>10270.750000</td>\n",
       "      <td>0.000000</td>\n",
       "      <td>100.000000</td>\n",
       "      <td>2025.000000</td>\n",
       "      <td>2185.000000</td>\n",
       "      <td>8.800000</td>\n",
       "      <td>6.500000</td>\n",
       "      <td>7.300000</td>\n",
       "      <td>0.046000</td>\n",
       "      <td>0.19700</td>\n",
       "      <td>0.216000</td>\n",
       "      <td>0.000000</td>\n",
       "      <td>193.000000</td>\n",
       "    </tr>\n",
       "    <tr>\n",
       "      <th>50%</th>\n",
       "      <td>20637.500000</td>\n",
       "      <td>0.000000</td>\n",
       "      <td>120.000000</td>\n",
       "      <td>2076.000000</td>\n",
       "      <td>2355.000000</td>\n",
       "      <td>9.400000</td>\n",
       "      <td>6.800000</td>\n",
       "      <td>7.700000</td>\n",
       "      <td>0.137000</td>\n",
       "      <td>0.21400</td>\n",
       "      <td>0.239000</td>\n",
       "      <td>0.001000</td>\n",
       "      <td>203.000000</td>\n",
       "    </tr>\n",
       "    <tr>\n",
       "      <th>75%</th>\n",
       "      <td>30954.500000</td>\n",
       "      <td>0.000000</td>\n",
       "      <td>120.000000</td>\n",
       "      <td>2186.000000</td>\n",
       "      <td>2709.000000</td>\n",
       "      <td>10.000000</td>\n",
       "      <td>7.200000</td>\n",
       "      <td>8.200000</td>\n",
       "      <td>0.312000</td>\n",
       "      <td>0.22600</td>\n",
       "      <td>0.253000</td>\n",
       "      <td>0.001000</td>\n",
       "      <td>216.000000</td>\n",
       "    </tr>\n",
       "    <tr>\n",
       "      <th>max</th>\n",
       "      <td>41256.000000</td>\n",
       "      <td>1.000000</td>\n",
       "      <td>405.000000</td>\n",
       "      <td>2680.000000</td>\n",
       "      <td>2859.000000</td>\n",
       "      <td>19.100000</td>\n",
       "      <td>9.800000</td>\n",
       "      <td>12.700000</td>\n",
       "      <td>0.920000</td>\n",
       "      <td>0.92000</td>\n",
       "      <td>0.570000</td>\n",
       "      <td>0.010000</td>\n",
       "      <td>297.000000</td>\n",
       "    </tr>\n",
       "  </tbody>\n",
       "</table>\n",
       "</div>"
      ],
      "text/plain": [
       "                 id        hybrid     max_power    weight_min    weight_max  \\\n",
       "count  33836.000000  33836.000000  33836.000000  33836.000000  33836.000000   \n",
       "mean   20626.299533      0.001891    110.637363   2105.269890   2363.662194   \n",
       "std    11925.890823      0.043451     22.962950    220.992665    356.793576   \n",
       "min        0.000000      0.000000     40.000000    845.000000    845.000000   \n",
       "25%    10270.750000      0.000000    100.000000   2025.000000   2185.000000   \n",
       "50%    20637.500000      0.000000    120.000000   2076.000000   2355.000000   \n",
       "75%    30954.500000      0.000000    120.000000   2186.000000   2709.000000   \n",
       "max    41256.000000      1.000000    405.000000   2680.000000   2859.000000   \n",
       "\n",
       "           urb_cons   exturb_cons  overall_cons            co          nox  \\\n",
       "count  33836.000000  33836.000000  33836.000000  33836.000000  33836.00000   \n",
       "mean       9.250047      6.659691      7.598977      0.173798      0.21030   \n",
       "std        1.345839      0.813015      0.982133      0.140222      0.03543   \n",
       "min        0.000000      2.800000      1.800000      0.005000      0.02100   \n",
       "25%        8.800000      6.500000      7.300000      0.046000      0.19700   \n",
       "50%        9.400000      6.800000      7.700000      0.137000      0.21400   \n",
       "75%       10.000000      7.200000      8.200000      0.312000      0.22600   \n",
       "max       19.100000      9.800000     12.700000      0.920000      0.92000   \n",
       "\n",
       "              hcnox          ptcl           co2  \n",
       "count  33836.000000  33836.000000  33836.000000  \n",
       "mean       0.233715      0.000683    199.979164  \n",
       "std        0.037262      0.000570     25.999237  \n",
       "min        0.000000      0.000000     48.000000  \n",
       "25%        0.216000      0.000000    193.000000  \n",
       "50%        0.239000      0.001000    203.000000  \n",
       "75%        0.253000      0.001000    216.000000  \n",
       "max        0.570000      0.010000    297.000000  "
      ]
     },
     "execution_count": 7,
     "metadata": {},
     "output_type": "execute_result"
    }
   ],
   "source": [
    "data[\"hybrid\"] = data[\"hybrid\"].replace(['non', 'oui'], [0, 1])\n",
    "data=data.dropna(axis=0)\n",
    "data.head()\n",
    "data.describe()"
   ]
  },
  {
   "cell_type": "code",
   "execution_count": 8,
   "id": "430ef2d2",
   "metadata": {
    "execution": {
     "iopub.execute_input": "2025-03-24T09:55:56.337159Z",
     "iopub.status.busy": "2025-03-24T09:55:56.336797Z",
     "iopub.status.idle": "2025-03-24T09:55:56.365466Z",
     "shell.execute_reply": "2025-03-24T09:55:56.364352Z"
    },
    "papermill": {
     "duration": 0.036007,
     "end_time": "2025-03-24T09:55:56.367321",
     "exception": false,
     "start_time": "2025-03-24T09:55:56.331314",
     "status": "completed"
    },
    "tags": []
   },
   "outputs": [
    {
     "data": {
      "text/plain": [
       "id             -0.002127\n",
       "hybrid         -0.135512\n",
       "max_power       0.071771\n",
       "weight_min      0.694039\n",
       "weight_max      0.565527\n",
       "urb_cons        0.968751\n",
       "exturb_cons     0.959053\n",
       "overall_cons    0.999561\n",
       "co             -0.181780\n",
       "nox             0.708196\n",
       "hcnox           0.630246\n",
       "ptcl            0.178812\n",
       "co2             1.000000\n",
       "Name: co2, dtype: float64"
      ]
     },
     "execution_count": 8,
     "metadata": {},
     "output_type": "execute_result"
    }
   ],
   "source": [
    "corr_matrix = data.corr()['co2']\n",
    "corr_matrix"
   ]
  },
  {
   "cell_type": "markdown",
   "id": "c49e2cc1",
   "metadata": {
    "papermill": {
     "duration": 0.004534,
     "end_time": "2025-03-24T09:55:56.378180",
     "exception": false,
     "start_time": "2025-03-24T09:55:56.373646",
     "status": "completed"
    },
    "tags": []
   },
   "source": [
    "# Le Model"
   ]
  },
  {
   "cell_type": "code",
   "execution_count": 9,
   "id": "a33ab1cf",
   "metadata": {
    "execution": {
     "iopub.execute_input": "2025-03-24T09:55:56.388836Z",
     "iopub.status.busy": "2025-03-24T09:55:56.388465Z",
     "iopub.status.idle": "2025-03-24T09:55:56.395866Z",
     "shell.execute_reply": "2025-03-24T09:55:56.394763Z"
    },
    "papermill": {
     "duration": 0.01461,
     "end_time": "2025-03-24T09:55:56.397506",
     "exception": false,
     "start_time": "2025-03-24T09:55:56.382896",
     "status": "completed"
    },
    "tags": []
   },
   "outputs": [
    {
     "data": {
      "text/plain": [
       "Index(['id', 'hybrid', 'max_power', 'weight_min', 'weight_max', 'urb_cons',\n",
       "       'exturb_cons', 'overall_cons', 'co', 'nox', 'hcnox', 'ptcl', 'co2'],\n",
       "      dtype='object')"
      ]
     },
     "execution_count": 9,
     "metadata": {},
     "output_type": "execute_result"
    }
   ],
   "source": [
    "data.columns"
   ]
  },
  {
   "cell_type": "code",
   "execution_count": 10,
   "id": "a2dc4693",
   "metadata": {
    "execution": {
     "iopub.execute_input": "2025-03-24T09:55:56.408662Z",
     "iopub.status.busy": "2025-03-24T09:55:56.408219Z",
     "iopub.status.idle": "2025-03-24T09:55:56.414865Z",
     "shell.execute_reply": "2025-03-24T09:55:56.413600Z"
    },
    "papermill": {
     "duration": 0.014424,
     "end_time": "2025-03-24T09:55:56.416960",
     "exception": false,
     "start_time": "2025-03-24T09:55:56.402536",
     "status": "completed"
    },
    "tags": []
   },
   "outputs": [],
   "source": [
    "y = data.co2\n",
    "data_features=['max_power', 'weight_min', 'weight_max', 'urb_cons',\n",
    "       'exturb_cons', 'overall_cons', 'nox', 'hcnox', 'ptcl']\n",
    "X = data[data_features]"
   ]
  },
  {
   "cell_type": "code",
   "execution_count": 11,
   "id": "5f9160a6",
   "metadata": {
    "execution": {
     "iopub.execute_input": "2025-03-24T09:55:56.428016Z",
     "iopub.status.busy": "2025-03-24T09:55:56.427672Z",
     "iopub.status.idle": "2025-03-24T09:55:58.689528Z",
     "shell.execute_reply": "2025-03-24T09:55:58.688378Z"
    },
    "papermill": {
     "duration": 2.269362,
     "end_time": "2025-03-24T09:55:58.691296",
     "exception": false,
     "start_time": "2025-03-24T09:55:56.421934",
     "status": "completed"
    },
    "tags": []
   },
   "outputs": [],
   "source": [
    "from sklearn.tree import DecisionTreeRegressor\n",
    "from sklearn.model_selection import train_test_split\n",
    "from sklearn.metrics import mean_absolute_error"
   ]
  },
  {
   "cell_type": "code",
   "execution_count": 12,
   "id": "bb4fd39e",
   "metadata": {
    "execution": {
     "iopub.execute_input": "2025-03-24T09:55:58.703131Z",
     "iopub.status.busy": "2025-03-24T09:55:58.702598Z",
     "iopub.status.idle": "2025-03-24T09:55:58.764539Z",
     "shell.execute_reply": "2025-03-24T09:55:58.763323Z"
    },
    "papermill": {
     "duration": 0.069714,
     "end_time": "2025-03-24T09:55:58.766207",
     "exception": false,
     "start_time": "2025-03-24T09:55:58.696493",
     "status": "completed"
    },
    "tags": []
   },
   "outputs": [
    {
     "name": "stdout",
     "output_type": "stream",
     "text": [
      "0.0491445765318384\n"
     ]
    }
   ],
   "source": [
    "train_X, val_X, train_y, val_y = train_test_split(X, y, random_state = 1, test_size=0.2)\n",
    "\n",
    "co2_model_DTR = DecisionTreeRegressor()\n",
    "co2_model_DTR.fit(train_X, train_y)\n",
    "val_predictions = co2_model_DTR.predict(val_X)\n",
    "val_mae = mean_absolute_error(val_y, val_predictions)\n",
    "print(val_mae)"
   ]
  }
 ],
 "metadata": {
  "kaggle": {
   "accelerator": "none",
   "dataSources": [
    {
     "databundleVersionId": 11533550,
     "sourceId": 96959,
     "sourceType": "competition"
    }
   ],
   "dockerImageVersionId": 30918,
   "isGpuEnabled": false,
   "isInternetEnabled": true,
   "language": "python",
   "sourceType": "notebook"
  },
  "kernelspec": {
   "display_name": "Python 3",
   "language": "python",
   "name": "python3"
  },
  "language_info": {
   "codemirror_mode": {
    "name": "ipython",
    "version": 3
   },
   "file_extension": ".py",
   "mimetype": "text/x-python",
   "name": "python",
   "nbconvert_exporter": "python",
   "pygments_lexer": "ipython3",
   "version": "3.10.12"
  },
  "papermill": {
   "default_parameters": {},
   "duration": 7.840683,
   "end_time": "2025-03-24T09:55:59.492590",
   "environment_variables": {},
   "exception": null,
   "input_path": "__notebook__.ipynb",
   "output_path": "__notebook__.ipynb",
   "parameters": {},
   "start_time": "2025-03-24T09:55:51.651907",
   "version": "2.6.0"
  }
 },
 "nbformat": 4,
 "nbformat_minor": 5
}
